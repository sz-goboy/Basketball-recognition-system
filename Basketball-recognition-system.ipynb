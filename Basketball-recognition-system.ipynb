{
 "cells": [
  {
   "cell_type": "code",
   "execution_count": null,
   "metadata": {},
   "outputs": [],
   "source": [
    "import cv2\n",
    "import numpy as np\n",
    "\n",
    "img = cv2.imread('17.png',0)      //读取照片（若是使用摄像头可改为读取一帧）\n",
    "img2 = cv2.imread('17.png')\n",
    "\n",
    "img = cv2.medianBlur(img,5)       //使用高斯滤波等减少杂音\n",
    "img = cv2.GaussianBlur(img,(5,5),0)\n",
    "\n",
    "img = cv2.Canny(img,30,30)        \n",
    "\n",
    "cimg = cv2.cvtColor(img,cv2.COLOR_GRAY2BGR)\n",
    "\n",
    "//使用HOG算法检测篮球的球心\n",
    "circles = cv2.HoughCircles(img,cv2.HOUGH_GRADIENT,1,30,\n",
    "                            param1=100,param2=50,minRadius=1,maxRadius=50)\n",
    "\n",
    "circles = np.uint16(np.around(circles))\n",
    "\n",
    "//使用颜色筛选，减少识别篮球球心的误差\n",
    "for i in circles[0,:]:\n",
    "    a=i[0]\n",
    "    b=i[1]\n",
    "    c=i[2]\n",
    "    blue=img2[b,a,0]\n",
    "    green=img2[b,a,1]\n",
    "    red=img2[b,a,2]\n",
    "    if 50<blue<100:\n",
    "        if 60<green<110:\n",
    "            if 130<red<180:\n",
    "                print(i)\n",
    "                \n",
    "                cv2.circle(cimg,(i[0],i[1]),i[2],(0,255,0),2)\n",
    "                cv2.circle(cimg,(i[0],i[1]),2,(0,0,255),3)\n",
    "\n",
    "//画出圆心\n",
    "'''\n",
    "for i in circles[0,:]:\n",
    "    # draw the outer circle\n",
    "    cv2.circle(cimg,(i[0],i[1]),i[2],(0,255,0),2)\n",
    "    # draw the center of the circle\n",
    "    cv2.circle(cimg,(i[0],i[1]),2,(0,0,255),3)\n",
    "'''\n",
    "#cv2.imshow('detected circles',cimg)\n",
    "cv2.imwrite('3.jpg',cimg)\n",
    "cv2.waitKey(0)\n",
    "cv2.destroyAllWindows()"
   ]
  }
 ],
 "metadata": {
  "kernelspec": {
   "display_name": "Python 3",
   "language": "python",
   "name": "python3"
  },
  "language_info": {
   "codemirror_mode": {
    "name": "ipython",
    "version": 3
   },
   "file_extension": ".py",
   "mimetype": "text/x-python",
   "name": "python",
   "nbconvert_exporter": "python",
   "pygments_lexer": "ipython3",
   "version": "3.8.5"
  }
 },
 "nbformat": 4,
 "nbformat_minor": 4
}
